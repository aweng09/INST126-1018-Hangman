{
 "cells": [
  {
   "cell_type": "code",
   "execution_count": null,
   "metadata": {},
   "outputs": [],
   "source": [
    "import random ### Python documentation. Function. docs.python.org/3/library/random.html\n",
    "\n",
    "def decrypt(cipher_text):\n",
    "\n",
    "    cipher_letters = list(cipher_text)\n",
    "    plain_text = \"\"\n",
    "    \n",
    "    ### Python documentation. Function. https://docs.python.org/3.4/library/functions.html?highlight=ord\n",
    "    \n",
    "    for k in range(len(cipher_letters)):\n",
    "        original_ascii = ord(cipher_letters[k]) \n",
    "        if k % 2 == 0:\n",
    "            plain_text += chr(original_ascii - 1) \n",
    "        else:\n",
    "            plain_text += chr(original_ascii + 1)\n",
    "            \n",
    "    print(f\"The decoded word is: {plain_text}.\")\n",
    "            \n",
    "def start_game():\n",
    "    \n",
    "    lives = 10\n",
    "    word_bank = [\"WHDSPQZ\", \"XHO\", \"TTDBFRT\", \"QQJYF\", \"ENQD\", \"DNPK\", \"CNTR\", \"EHWHOD\", \"TSVMOHOF\", \"XNOCFQGTM\"]\n",
    "    \n",
    "    selected_word = word_bank[random.randint(0, 9)]\n",
    "    selected_letters = list(selected_word)\n",
    "    correct_letters = []\n",
    "    wrong_letters = []\n",
    "        \n",
    "    for i in range(len(selected_letters)):\n",
    "        correct_letters.append(\"_\")\n",
    "    \n",
    "    while lives >= 0:\n",
    "        \n",
    "        print(f\"Current word: {correct_letters}\")\n",
    "        print(f\"You have {lives} lives and you have used these letters: {wrong_letters}\")\n",
    "        guess = input(\"Please enter a letter: \").upper()\n",
    "        print(\"\\n\")\n",
    "        \n",
    "        temp = 0\n",
    "                \n",
    "        for j in range(len(selected_letters)):\n",
    "            if selected_letters[j] == guess:\n",
    "                correct_letters[j] = guess\n",
    "                temp += 1\n",
    "            elif j == (len(selected_letters) - 1) and temp == 0:\n",
    "                if guess not in wrong_letters:\n",
    "                    lives -= 1\n",
    "                    wrong_letters.append(guess)\n",
    "                    break\n",
    "                else:\n",
    "                    continue\n",
    "            \n",
    "        if selected_word == ''.join(correct_letters) and lives > 0:\n",
    "            print(f\"Congratulations, you won! The encrypted word is: {selected_word}.\")\n",
    "            decrypt(selected_word)\n",
    "            break\n",
    "        elif lives == 0:\n",
    "            print(\"Oh no, you're out of lives!\")\n",
    "            break"
   ]
  },
  {
   "cell_type": "code",
   "execution_count": null,
   "metadata": {},
   "outputs": [],
   "source": [
    "start_game()"
   ]
  }
 ],
 "metadata": {
  "kernelspec": {
   "display_name": "Python 3",
   "language": "python",
   "name": "python3"
  },
  "language_info": {
   "codemirror_mode": {
    "name": "ipython",
    "version": 3
   },
   "file_extension": ".py",
   "mimetype": "text/x-python",
   "name": "python",
   "nbconvert_exporter": "python",
   "pygments_lexer": "ipython3",
   "version": "3.8.5"
  }
 },
 "nbformat": 4,
 "nbformat_minor": 4
}
